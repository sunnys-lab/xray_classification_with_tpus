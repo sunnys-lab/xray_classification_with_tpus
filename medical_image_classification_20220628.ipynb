{
  "nbformat": 4,
  "nbformat_minor": 0,
  "metadata": {
    "colab": {
      "name": "medical_image_classification_20220628.ipynb",
      "provenance": [],
      "authorship_tag": "ABX9TyNI8oTk+Uw1cIRPkTz0FZQ8",
      "include_colab_link": true
    },
    "kernelspec": {
      "name": "python3",
      "display_name": "Python 3"
    },
    "language_info": {
      "name": "python"
    }
  },
  "cells": [
    {
      "cell_type": "markdown",
      "metadata": {
        "id": "view-in-github",
        "colab_type": "text"
      },
      "source": [
        "<a href=\"https://colab.research.google.com/github/sunnys-lab/xray_classification_with_tpus/blob/main/medical_image_classification_20220628.ipynb\" target=\"_parent\"><img src=\"https://colab.research.google.com/assets/colab-badge.svg\" alt=\"Open In Colab\"/></a>"
      ]
    },
    {
      "cell_type": "code",
      "execution_count": null,
      "metadata": {
        "id": "WdJJp8wR3jhW"
      },
      "outputs": [],
      "source": [
        ""
      ]
    }
  ]
}